{
 "cells": [
  {
   "cell_type": "code",
   "execution_count": 1,
   "metadata": {
    "scrolled": false
   },
   "outputs": [],
   "source": [
    "import numpy as np\n",
    "import cv2\n",
    "import matplotlib.pyplot as plt"
   ]
  },
  {
   "cell_type": "markdown",
   "metadata": {},
   "source": [
    "## ORB and SIFT Features"
   ]
  },
  {
   "cell_type": "code",
   "execution_count": 3,
   "metadata": {
    "scrolled": false
   },
   "outputs": [],
   "source": [
    "list_of_imgs = [str(i) for i in range(60)]\n",
    "\n",
    "\n",
    "orb = cv2.ORB_create(nfeatures=200) # ORB feature generator\n",
    "sift = cv2.xfeatures2d.SIFT_create(nfeatures=200) # SIFT feature generator\n",
    "\n",
    "scale_percent = 10 # Scaling down images to 10% of original size\n",
    "width = int(4000 * scale_percent / 100) # All images are of dimension: (3000,4000)\n",
    "height = int(3000 * scale_percent / 100)\n",
    "dim = (width, height)\n",
    "\n",
    "des_orb = [0]*len(list_of_imgs)\n",
    "des_sift = [0]*len(list_of_imgs)\n",
    "for i in range(len(list_of_imgs)):\n",
    "    img = cv2.imread('Dataset/'+list_of_imgs[i] + '.jpg',0) # Loading images from dataset\n",
    "    img = cv2.resize(img,dim,interpolation=cv2.INTER_AREA) #Resized to (750,1000)\n",
    "    kp,des_orb[i] = orb.detectAndCompute(img,None) # ORB features\n",
    "    kp,des_sift[i] = sift.detectAndCompute(img,None) # SIFT features"
   ]
  },
  {
   "cell_type": "markdown",
   "metadata": {},
   "source": [
    "## Feature Matching"
   ]
  },
  {
   "cell_type": "code",
   "execution_count": 4,
   "metadata": {},
   "outputs": [],
   "source": [
    "def knn_match(des1,des2,k):\n",
    "    # Funciton that returns the similarity between 2 descriptors for a given k.\n",
    "    des1_repeat = np.repeat(des1[np.newaxis,:,:],des2.shape[0],axis=0) # Repeating features along a new dimension. Output dimension (500,500,32)\n",
    "    des2_repeat = np.repeat(des2[:,np.newaxis,:],des1.shape[0],axis=1) # Repeating features along a new dimension, but not the same one as previous. Output dimension (500,500,32)\n",
    "    distance = np.min(np.linalg.norm(des1_repeat-des2_repeat,2,axis=2),axis=0) # Computing Euclidean distance between the two and taking minimum.\n",
    "    distance = np.sort(distance)[:k] # The distances are sorted and k features with minimum distances are kept.\n",
    "    return sum(distance)"
   ]
  },
  {
   "cell_type": "markdown",
   "metadata": {},
   "source": [
    "## ORB Feature Matching"
   ]
  },
  {
   "cell_type": "code",
   "execution_count": 4,
   "metadata": {},
   "outputs": [
    {
     "name": "stdout",
     "output_type": "stream",
     "text": [
      "k =  1 Accuracy =  37.0 %\n",
      "k =  5 Accuracy =  44.333333333333336 %\n",
      "k =  10 Accuracy =  44.333333333333336 %\n",
      "k =  20 Accuracy =  43.333333333333336 %\n",
      "k =  40 Accuracy =  43.0 %\n",
      "k =  60 Accuracy =  40.33333333333333 %\n",
      "k =  80 Accuracy =  41.333333333333336 %\n"
     ]
    }
   ],
   "source": [
    "k_values = [1,5,10,20,40,60,80]\n",
    "avg_retrieval_accuracy_orb = []\n",
    "for k in k_values:\n",
    "    is_correct = [] \n",
    "    for i in range(len(des_orb)):\n",
    "        correct = np.repeat(i//6,5) # Labels\n",
    "        distances = [] # To store distances between query image and other images\n",
    "        for j in range(len(des_orb)):\n",
    "            if(i != j): # For images not the same as query image\n",
    "                distances.append(knn_match(des_orb[i],des_orb[j],k))\n",
    "                index = np.array(distances).argsort()[:5] # Argsort returns the indices that sort an array. Top-5 are kept.\n",
    "        index = index//6 # To find the predicted scene number.\n",
    "        is_correct.append(correct==index) # Comparing with labels\n",
    "    accuracy = np.average(np.array(is_correct)) # Taking average of accuracies\n",
    "    print(\"k = \",k,\"Accuracy = \",accuracy*100,\"%\")\n",
    "    avg_retrieval_accuracy_orb.append(accuracy)"
   ]
  },
  {
   "cell_type": "code",
   "execution_count": 6,
   "metadata": {},
   "outputs": [
    {
     "data": {
      "image/png": "[encoded data removed]",
      "text/plain": [
       "<Figure size 432x288 with 1 Axes>"
      ]
     },
     "metadata": {
      "needs_background": "light"
     },
     "output_type": "display_data"
    }
   ],
   "source": [
    "plt.plot(k_values,avg_retrieval_accuracy_orb)\n",
    "plt.title('ORB')\n",
    "plt.xlabel('k')\n",
    "plt.ylabel('Average Retrieval Accuracy')\n",
    "plt.show()sni"
   ]
  },
  {
   "cell_type": "markdown",
   "metadata": {},
   "source": [
    "## SIFT Feature Matching"
   ]
  },
  {
   "cell_type": "code",
   "execution_count": 5,
   "metadata": {},
   "outputs": [
    {
     "name": "stdout",
     "output_type": "stream",
     "text": [
      "k =  1 Accuracy =  67.66666666666666 %\n",
      "k =  5 Accuracy =  77.0 %\n",
      "k =  10 Accuracy =  81.0 %\n",
      "k =  20 Accuracy =  86.66666666666667 %\n",
      "k =  40 Accuracy =  89.66666666666666 %\n",
      "k =  60 Accuracy =  91.0 %\n",
      "k =  80 Accuracy =  89.66666666666666 %\n",
      "k =  500 Accuracy =  88.0 %\n"
     ]
    }
   ],
   "source": [
    "k_values = [1,5,10,20,40,60,80,200]# 500 are the maximum number of matches\n",
    "avg_retrieval_accuracy_sift = []\n",
    "for k in k_values:\n",
    "    is_correct = []\n",
    "    for i in range(len(des_sift)):\n",
    "        correct = np.repeat(i//6,5)\n",
    "        distances = []\n",
    "        for j in range(len(des_sift)):\n",
    "            if(i != j):\n",
    "                distances.append(knn_match(des_sift[i],des_sift[j],k))\n",
    "                index = np.array(distances).argsort()[:5]\n",
    "        index = index//6\n",
    "        is_correct.append(correct==index)\n",
    "    accuracy = np.average(np.array(is_correct))\n",
    "    print(\"k = \",k,\"Accuracy = \",accuracy*100,\"%\")\n",
    "    avg_retrieval_accuracy_sift.append(accuracy)"
   ]
  },
  {
   "cell_type": "code",
   "execution_count": 6,
   "metadata": {},
   "outputs": [
    {
     "data": {
      "image/png": "[encoded data removed]",
      "text/plain": [
       "<Figure size 432x288 with 1 Axes>"
      ]
     },
     "metadata": {
      "needs_background": "light"
     },
     "output_type": "display_data"
    }
   ],
   "source": [
    "plt.plot(k_values,avg_retrieval_accuracy_sift)\n",
    "plt.title('SIFT')\n",
    "plt.xlabel('k')\n",
    "plt.ylabel('Average Retrieval Accuracy')\n",
    "plt.show()"
   ]
  },
  {
   "cell_type": "code",
   "execution_count": null,
   "metadata": {},
   "outputs": [],
   "source": []
  }
 ],
 "metadata": {
  "kernelspec": {
   "display_name": "Python 3",
   "language": "python",
   "name": "python3"
  },
  "language_info": {
   "codemirror_mode": {
    "name": "ipython",
    "version": 3
   },
   "file_extension": ".py",
   "mimetype": "text/x-python",
   "name": "python",
   "nbconvert_exporter": "python",
   "pygments_lexer": "ipython3",
   "version": "3.6.8"
  }
 },
 "nbformat": 4,
 "nbformat_minor": 2
}
